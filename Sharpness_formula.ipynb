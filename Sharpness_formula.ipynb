{
 "cells": [
  {
   "cell_type": "code",
   "execution_count": 9,
   "id": "bf0ed64c",
   "metadata": {},
   "outputs": [],
   "source": [
    "import numpy as np"
   ]
  },
  {
   "cell_type": "code",
   "execution_count": 10,
   "id": "8c4323c7",
   "metadata": {},
   "outputs": [],
   "source": [
    "size = 1_000_000\n",
    "\n",
    "model_predicted_proba_group1 = 0\n",
    "model_predicted_proba_group2 = 1\n",
    "\n",
    "true_proba_g1 = 0.4\n",
    "true_proba_g2 = 0.95\n",
    "#predicted probas\n",
    "y_preds1 = np.ones(size)*model_predicted_proba_group1\n",
    "y_preds2 = np.ones(size)*model_predicted_proba_group2\n",
    "#true probas\n",
    "y_true1 = np.random.binomial(1, true_proba_g1, size)\n",
    "y_true2 = np.random.binomial(1, true_proba_g2, size)\n",
    "\n",
    "y_true = np.concatenate([y_true1, y_true2])\n",
    "y_pred_proba = np.concatenate([y_preds1, y_preds2])"
   ]
  },
  {
   "cell_type": "code",
   "execution_count": 11,
   "id": "e051cdd0",
   "metadata": {},
   "outputs": [],
   "source": [
    "PY = np.mean(y_true)"
   ]
  },
  {
   "cell_type": "code",
   "execution_count": 12,
   "id": "6892c3aa",
   "metadata": {},
   "outputs": [
    {
     "data": {
      "text/plain": [
       "0.2248745"
      ]
     },
     "execution_count": 12,
     "metadata": {},
     "output_type": "execute_result"
    }
   ],
   "source": [
    "#left hand side\n",
    "np.mean((y_true-y_pred_proba)**2)"
   ]
  },
  {
   "cell_type": "code",
   "execution_count": 13,
   "id": "653f5706",
   "metadata": {},
   "outputs": [
    {
     "data": {
      "text/plain": [
       "0.08125000000000002"
      ]
     },
     "execution_count": 13,
     "metadata": {},
     "output_type": "execute_result"
    }
   ],
   "source": [
    "#calibration\n",
    "# since equal-sized groups I can just divide by 2, no need for vectors\n",
    "cal = ((model_predicted_proba_group1-true_proba_g1)**2 +(model_predicted_proba_group2-true_proba_g2)**2)/2 \n",
    "cal"
   ]
  },
  {
   "cell_type": "code",
   "execution_count": 14,
   "id": "dfdcd81d",
   "metadata": {},
   "outputs": [
    {
     "data": {
      "text/plain": [
       "0.07562500950624998"
      ]
     },
     "execution_count": 14,
     "metadata": {},
     "output_type": "execute_result"
    }
   ],
   "source": [
    "#sharpnes\n",
    "sharp = ((true_proba_g1-PY)**2 + (true_proba_g2-PY)**2)/2\n",
    "sharp"
   ]
  },
  {
   "cell_type": "code",
   "execution_count": 15,
   "id": "7f38e09c",
   "metadata": {},
   "outputs": [
    {
     "data": {
      "text/plain": [
       "0.21940911549375"
      ]
     },
     "execution_count": 15,
     "metadata": {},
     "output_type": "execute_result"
    }
   ],
   "source": [
    "#irreducible\n",
    "irr = PY*(1-PY)\n",
    "irr"
   ]
  },
  {
   "cell_type": "code",
   "execution_count": 16,
   "id": "76d648ed",
   "metadata": {},
   "outputs": [
    {
     "data": {
      "text/plain": [
       "0.22503410598750004"
      ]
     },
     "execution_count": 16,
     "metadata": {},
     "output_type": "execute_result"
    }
   ],
   "source": [
    "cal - sharp + irr"
   ]
  },
  {
   "cell_type": "code",
   "execution_count": null,
   "id": "d04bddae",
   "metadata": {},
   "outputs": [],
   "source": []
  }
 ],
 "metadata": {
  "kernelspec": {
   "display_name": "p39all",
   "language": "python",
   "name": "p39all"
  },
  "language_info": {
   "codemirror_mode": {
    "name": "ipython",
    "version": 3
   },
   "file_extension": ".py",
   "mimetype": "text/x-python",
   "name": "python",
   "nbconvert_exporter": "python",
   "pygments_lexer": "ipython3",
   "version": "3.9.7"
  }
 },
 "nbformat": 4,
 "nbformat_minor": 5
}
